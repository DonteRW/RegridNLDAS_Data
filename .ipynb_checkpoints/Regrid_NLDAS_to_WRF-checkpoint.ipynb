{
 "cells": [
  {
   "cell_type": "markdown",
   "metadata": {},
   "source": [
    "# Regrid NLDAS data to a WRF grid\n",
    "## Alejandro (Lejo) Flores\n",
    "## LEAF Research / Boise State University\n",
    "## 21 January 2018\n",
    "\n",
    "The purpose of this Jupyter notebook is to show how to resample precipitation data from the North American Land Data Assimilation System (NLDAS) from it's native 0.125${}^{\\circ}$ resolution grid, to a WRF grid with a 1 km resolution. This is meant as a simple example that uses some key community libraries to accomplish this regridding.\n",
    "\n",
    "The libraries used in particular, and their purpose in the context of this Jupyter notebook, are:\n",
    "* pygrib -> Read NLDAS data in grib format\n",
    "* numpy -> Used as the container for the grids (to do: use xarray instead)\n",
    "* netCDF4 -> Read WRF latitude and longitude grids from netCDF format\n",
    "* matplotlib -> Used to plot to verify the workflow\n",
    "* xESMF -> Used as the regridder. This is a great tool that serves as an xarray enabled front-end to ESMPy. Check it out here: http://xesmf.readthedocs.io/en/latest/index.html\n",
    "\n",
    "The workflow goes like this:\n",
    "1. Import the libraries\n",
    "2. Read in the WRF latitude and longitude grids (the target grid) using netCDF4. Verify using pyplot.\n",
    "3. Read the NLDAS latitude, longitude, and precipitation data using pygrib. Verify using pyplot.\n",
    "4. Define the input and output grids for xESMF (using the numpy implementation)\n",
    "5. Use xESMF to get the weights for regridding\n",
    "6. Use the regridder to resample the NLDAS data\n",
    "7. Plot to verify"
   ]
  },
  {
   "cell_type": "markdown",
   "metadata": {},
   "source": [
    "## 1. Import libraries"
   ]
  },
  {
   "cell_type": "code",
   "execution_count": 1,
   "metadata": {},
   "outputs": [],
   "source": [
    "import pygrib as pg\n",
    "import numpy as np\n",
    "import netCDF4 as nc\n",
    "import matplotlib.pyplot as plt\n",
    "import xesmf as xe"
   ]
  },
  {
   "cell_type": "markdown",
   "metadata": {},
   "source": [
    "## 2. Define key constants and file names"
   ]
  },
  {
   "cell_type": "code",
   "execution_count": 2,
   "metadata": {},
   "outputs": [],
   "source": [
    "# Spatial resolution of the NLDAS data\n",
    "NLDAS_res = 0.125\n",
    "\n",
    "# NLDAS file name (Grib file)\n",
    "nldas_file = 'NLDAS_FORA0125_H.A20100603.0800.002.grb'\n",
    "\n",
    "# Names of the NetCDF files containing the XLAT and XLONG variables. Note that\n",
    "# in this case I just used the ncks utility in the NetCDF Climate Operators (NCO)\n",
    "# package to subset the XLAT and XLONG variables into new files from the wrfout\n",
    "# output files from some simulations\n",
    "wrf_lat_file = 'xlat_d02.nc'\n",
    "wrf_lon_file = 'xlong_d02.nc'\n",
    "\n",
    "wrf_lat_u_file = 'xlat_staggered_d02.nc'\n",
    "wrf_lon_u_file = 'xlong_staggered_d02.nc'"
   ]
  },
  {
   "cell_type": "markdown",
   "metadata": {},
   "source": [
    "## 3. Open the WRF latitute and longitude grids and plot"
   ]
  },
  {
   "cell_type": "code",
   "execution_count": 3,
   "metadata": {},
   "outputs": [
    {
     "ename": "NameError",
     "evalue": "name 'tmp' is not defined",
     "output_type": "error",
     "traceback": [
      "\u001b[0;31m---------------------------------------------------------------------------\u001b[0m",
      "\u001b[0;31mNameError\u001b[0m                                 Traceback (most recent call last)",
      "\u001b[0;32m<ipython-input-3-6e4beddae318>\u001b[0m in \u001b[0;36m<module>\u001b[0;34m()\u001b[0m\n\u001b[1;32m     22\u001b[0m \u001b[0;34m\u001b[0m\u001b[0m\n\u001b[1;32m     23\u001b[0m \u001b[0mwrf_lon_b\u001b[0m \u001b[0;34m=\u001b[0m \u001b[0mnp\u001b[0m\u001b[0;34m.\u001b[0m\u001b[0mvstack\u001b[0m\u001b[0;34m(\u001b[0m\u001b[0;34m(\u001b[0m\u001b[0mwrf_lons_stag_u\u001b[0m\u001b[0;34m,\u001b[0m \u001b[0mnp\u001b[0m\u001b[0;34m.\u001b[0m\u001b[0mhstack\u001b[0m\u001b[0;34m(\u001b[0m\u001b[0;34m(\u001b[0m\u001b[0mwrf_lons_stag_v\u001b[0m\u001b[0;34m[\u001b[0m\u001b[0;34m-\u001b[0m\u001b[0;36m1\u001b[0m\u001b[0;34m,\u001b[0m\u001b[0;34m:\u001b[0m\u001b[0;34m]\u001b[0m\u001b[0;34m,\u001b[0m \u001b[0mwrf_lons_stag_u\u001b[0m\u001b[0;34m[\u001b[0m\u001b[0;34m-\u001b[0m\u001b[0;36m1\u001b[0m\u001b[0;34m,\u001b[0m\u001b[0;34m-\u001b[0m\u001b[0;36m1\u001b[0m\u001b[0;34m]\u001b[0m\u001b[0;34m)\u001b[0m\u001b[0;34m)\u001b[0m\u001b[0;34m)\u001b[0m\u001b[0;34m)\u001b[0m\u001b[0;34m\u001b[0m\u001b[0m\n\u001b[0;32m---> 24\u001b[0;31m \u001b[0mwrf_lat_b\u001b[0m \u001b[0;34m=\u001b[0m \u001b[0mnp\u001b[0m\u001b[0;34m.\u001b[0m\u001b[0mhstack\u001b[0m\u001b[0;34m(\u001b[0m\u001b[0;34m(\u001b[0m\u001b[0mwrf_lats_stag_v\u001b[0m\u001b[0;34m,\u001b[0m \u001b[0mtmp\u001b[0m\u001b[0;34m.\u001b[0m\u001b[0mreshape\u001b[0m\u001b[0;34m(\u001b[0m\u001b[0mwrf_lats_east\u001b[0m\u001b[0;34m.\u001b[0m\u001b[0msize\u001b[0m\u001b[0;34m,\u001b[0m\u001b[0;36m1\u001b[0m\u001b[0;34m)\u001b[0m\u001b[0;34m)\u001b[0m\u001b[0;34m)\u001b[0m\u001b[0;34m\u001b[0m\u001b[0m\n\u001b[0m\u001b[1;32m     25\u001b[0m \u001b[0;34m\u001b[0m\u001b[0m\n\u001b[1;32m     26\u001b[0m \u001b[0mplt\u001b[0m\u001b[0;34m.\u001b[0m\u001b[0mpcolor\u001b[0m\u001b[0;34m(\u001b[0m\u001b[0mwrf_lons\u001b[0m\u001b[0;34m,\u001b[0m\u001b[0mwrf_lats\u001b[0m\u001b[0;34m,\u001b[0m\u001b[0mwrf_lats\u001b[0m\u001b[0;34m)\u001b[0m\u001b[0;34m\u001b[0m\u001b[0m\n",
      "\u001b[0;31mNameError\u001b[0m: name 'tmp' is not defined"
     ]
    }
   ],
   "source": [
    "# Open those NetCDF files \n",
    "nc_wrf_lat_fid = nc.Dataset(wrf_lat_file, 'r')\n",
    "nc_wrf_lon_fid = nc.Dataset(wrf_lon_file, 'r')\n",
    "\n",
    "nc_wrf_lat_stag_fid = nc.Dataset(wrf_lat_u_file, 'r')\n",
    "nc_wrf_lon_stag_fid = nc.Dataset(wrf_lon_u_file, 'r')\n",
    "\n",
    "\n",
    "wrf_lats = nc_wrf_lat_fid.variables['XLAT'][0,:,:]\n",
    "wrf_lons = nc_wrf_lon_fid.variables['XLONG'][0,:,:]\n",
    "\n",
    "# wrf_lon_b,wrf_lat_b = np.meshgrid(np.linspace(wrf_lons.min(),wrf_lons.max(),(np.size(wrf_lons,1)+1)), \n",
    "#                         np.linspace(wrf_lats.min(),wrf_lats.max(),(np.size(wrf_lats,0)+1)))\n",
    "\n",
    "wrf_lats_stag_u = nc_wrf_lat_stag_fid.variables['XLAT_U'][0,:,:]\n",
    "wrf_lats_stag_v = nc_wrf_lat_stag_fid.variables['XLAT_V'][0,:,:]\n",
    "\n",
    "wrf_lons_stag_u = nc_wrf_lon_stag_fid.variables['XLONG_U'][0,:,:]\n",
    "wrf_lons_stag_v = nc_wrf_lon_stag_fid.variables['XLONG_V'][0,:,:]\n",
    "\n",
    "wrf_lats_east = np.array(np.append(wrf_lats_stag_u[:,-1], wrf_lats_stag_v[-1,-1]))\n",
    "\n",
    "wrf_lon_b = np.vstack((wrf_lons_stag_u, np.hstack((wrf_lons_stag_v[-1,:], wrf_lons_stag_u[-1,-1]))))\n",
    "wrf_lat_b = np.hstack((wrf_lats_stag_v, wrf_lats_east.reshape(wrf_lats_east.size,1)))\n",
    "\n",
    "plt.pcolor(wrf_lons,wrf_lats,wrf_lats)\n",
    "plt.title('WRF Latitude Grid')\n",
    "plt.xlabel('Longitude')\n",
    "plt.ylabel('Latitude')\n",
    "plt.colorbar()\n",
    "plt.show()\n",
    "\n",
    "plt.pcolor(wrf_lons,wrf_lats,wrf_lons)\n",
    "plt.title('WRF Longitude Grid')\n",
    "plt.xlabel('Longitude')\n",
    "plt.ylabel('Latitude')\n",
    "plt.colorbar()\n",
    "plt.show()"
   ]
  },
  {
   "cell_type": "markdown",
   "metadata": {},
   "source": [
    "## 4. Open the NLDAS latitute, longitude, and precipitation grids and plot"
   ]
  },
  {
   "cell_type": "code",
   "execution_count": null,
   "metadata": {},
   "outputs": [],
   "source": [
    "# Open the NLDAS grib file \n",
    "grbs = pg.open(nldas_file) # Open the file\n",
    "grb = grbs[10] # Get the 10th variable, which is precipitation\n",
    "\n",
    "nldas_prcp = grb.values\n",
    "nldas_lat,nldas_lon = grb.latlons()\n",
    "\n",
    "nldas_lon_b, nldas_lat_b = np.meshgrid(np.linspace(nldas_lon.min(), nldas_lon.max(), (np.size(nldas_lon,1)+1)), \n",
    "                                   np.linspace(nldas_lat.min(), nldas_lat.max(), (np.size(nldas_lat,0)+1)))\n",
    "\n",
    "\n",
    "plt.pcolor(nldas_lon,nldas_lat,nldas_lat)\n",
    "plt.title('NLDAS Latitude Grid')\n",
    "plt.xlabel('Longitude')\n",
    "plt.ylabel('Latitude')\n",
    "plt.colorbar()\n",
    "plt.show()\n",
    "\n",
    "plt.pcolor(nldas_lon,nldas_lat,nldas_lon)\n",
    "plt.title('NLDAS Longitude Grid')\n",
    "plt.xlabel('Longitude')\n",
    "plt.ylabel('Latitude')\n",
    "plt.colorbar()\n",
    "plt.show()\n",
    "\n",
    "plt.pcolor(nldas_lon,nldas_lat,nldas_prcp)\n",
    "plt.title('NLDAS Precipitation Grid')\n",
    "plt.xlabel('Longitude')\n",
    "plt.ylabel('Latitude')\n",
    "plt.colorbar()\n",
    "plt.show()"
   ]
  },
  {
   "cell_type": "markdown",
   "metadata": {},
   "source": [
    "## 5. Define the input and output grids for the regridding function"
   ]
  },
  {
   "cell_type": "code",
   "execution_count": null,
   "metadata": {},
   "outputs": [],
   "source": [
    "grid_nldas_in = {'lon': nldas_lon,\n",
    "                 'lat': nldas_lat,\n",
    "                 'lon_b': nldas_lon_b,\n",
    "                 'lat_b': nldas_lat_b\n",
    "                }\n",
    "\n",
    "grid_wrf_out  = {'lon': wrf_lons,\n",
    "                 'lat': wrf_lats,\n",
    "                 'lon_b': wrf_lon_b,\n",
    "                 'lat_b': wrf_lat_b\n",
    "                }"
   ]
  },
  {
   "cell_type": "markdown",
   "metadata": {},
   "source": [
    "## 6. Use xESMF to get the regridding weight file"
   ]
  },
  {
   "cell_type": "code",
   "execution_count": null,
   "metadata": {},
   "outputs": [],
   "source": [
    "regridder = xe.Regridder(grid_nldas_in, grid_wrf_out, 'conservative')\n",
    "regridder.clean_weight_file()\n",
    "regridder"
   ]
  },
  {
   "cell_type": "markdown",
   "metadata": {},
   "source": [
    "## 7. Use the regridder to downsample the NLDAS data and plot"
   ]
  },
  {
   "cell_type": "code",
   "execution_count": null,
   "metadata": {},
   "outputs": [],
   "source": [
    "# Invoke regridder\n",
    "nldas_prcp_wrf = regridder(nldas_prcp)\n",
    "\n",
    "plt.pcolor(wrf_lons,wrf_lats,nldas_prcp_wrf)\n",
    "plt.title('NLDAS Precipitation, Resampled to 1km WRF Grid')\n",
    "plt.xlabel('Longitude')\n",
    "plt.ylabel('Latitude')\n",
    "plt.colorbar()\n",
    "plt.show()\n"
   ]
  }
 ],
 "metadata": {
  "kernelspec": {
   "display_name": "Python 3",
   "language": "python",
   "name": "python3"
  },
  "language_info": {
   "codemirror_mode": {
    "name": "ipython",
    "version": 3
   },
   "file_extension": ".py",
   "mimetype": "text/x-python",
   "name": "python",
   "nbconvert_exporter": "python",
   "pygments_lexer": "ipython3",
   "version": "3.6.4"
  }
 },
 "nbformat": 4,
 "nbformat_minor": 2
}
